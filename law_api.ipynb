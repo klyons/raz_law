{
 "cells": [
  {
   "cell_type": "code",

   "execution_count": 1,

   "execution_count": 2,

   "metadata": {},
   "outputs": [],
   "source": [
    "# https://justopinion.readthedocs.io/en/latest/guides/getting_started.html#selecting-text-from-an-opinion\n",
    "# https://medium.datadriveninvestor.com/legal-and-justice-related-python-libraries-d3888c08768a"
   ]
  },
  {
   "cell_type": "code",

   "execution_count": 2,

   "execution_count": 3,

   "metadata": {},
   "outputs": [
    {
     "ename": "ModuleNotFoundError",
     "evalue": "No module named 'justopinion'",
     "output_type": "error",
     "traceback": [
      "\u001b[1;31m---------------------------------------------------------------------------\u001b[0m",
      "\u001b[1;31mModuleNotFoundError\u001b[0m                       Traceback (most recent call last)",
      "Cell \u001b[1;32mIn[3], line 1\u001b[0m\n\u001b[1;32m----> 1\u001b[0m \u001b[38;5;28;01mfrom\u001b[39;00m \u001b[38;5;21;01mjustopinion\u001b[39;00m \u001b[38;5;28;01mimport\u001b[39;00m CAPClient\n\u001b[0;32m      2\u001b[0m \u001b[38;5;66;03m#49eb70bc06a32b6ec66b336ddcb5d68a6d010214\u001b[39;00m\n",
      "\u001b[1;31mModuleNotFoundError\u001b[0m: No module named 'justopinion'"
     ]
    }
   ],
   "source": [
    "from justopinion import CAPClient\n",
    "#49eb70bc06a32b6ec66b336ddcb5d68a6d010214"
   ]
  },
  {
   "cell_type": "code",

   "execution_count": 3,

   "execution_count": null,

   "metadata": {},
   "outputs": [],
   "source": [
    "client = CAPClient(api_token='49eb70bc06a32b6ec66b336ddcb5d68a6d010214')"
   ]
  },
  {
   "cell_type": "code",

   "execution_count": 4,

   "execution_count": null,

   "metadata": {},
   "outputs": [],
   "source": [
    "\n",
    "oracle_download = client.fetch(query=\"750 F.3d 1339\")\n",
    "#oracle_case = client.read_cite(\"750 F.3d 1339\", full_case=True)"
   ]
  },
  {
   "cell_type": "markdown",
   "metadata": {},
   "source": [
    "Raazya hates spanish, and coding"
   ]
  },
  {
   "cell_type": "code",

   "execution_count": 5,

   "execution_count": null,

   "metadata": {},
   "outputs": [
    {
     "data": {
      "text/plain": [
       "<Response [200]>"
      ]
     },
     "execution_count": 5,
     "metadata": {},
     "output_type": "execute_result"
    }
   ],
   "source": [
    "oracle_download"
   ]
  },
  {
   "cell_type": "code",

   "execution_count": 6,

   "execution_count": null,

   "metadata": {},
   "outputs": [
    {
     "data": {
      "text/plain": [
       "'ORACLE AMERICA, INC., Plaintiff-Appellant, v. GOOGLE INC., Defendant-Cross-Appellant'"
      ]
     },
     "execution_count": 6,
     "metadata": {},
     "output_type": "execute_result"
    }
   ],
   "source": [
    "oracle_data = oracle_download.json()\n",
    "oracle_data[\"results\"][0][\"name\"]"
   ]
  },
  {
   "cell_type": "code",

   "execution_count": 14,
   "metadata": {},
   "outputs": [
    {
     "name": "stdout",
     "output_type": "stream",
     "text": [
      "['2013 U.S. Dist. LEXIS 8113', '2013 WL 831528', '439 F.3d 1312', '283 U.S. 494', '2013 U.S. Dist. LEXIS 144061', '720 F.2d 231', '263 F.3d 942', '517 U.S. 370', '932 F.Supp. 220', '2009 U.S. Dist. LEXIS 57525', '2011 U.S. Dist. LEXIS 37735', '972 F.2d 1031', '360 F.3d 644', '41 Stan. L.Rev. 1045', '1984 Duke L.J. 663', '812 F.2d 421', '388 F.3d 1189', '991 F.2d 563', '575 F.3d 935', '595 F.3d 1340', '336 F.3d 811', '81 F.2d 49', '868 F.2d 1313', '227 F.3d 1110', '447 F.3d 769', '508 F.3d 1146', '562 F.3d 630', '619 F.3d 301', '654 F.3d 989', '349 F.3d 622', '353 F.3d 792', '527 F.3d 1318', '33 F.3d 1477', '794 F.2d 432', '709 F.3d 1273', '725 F.3d 1170', '471 U.S. 539', '495 U.S. 207', '510 U.S. 569', '104 F.2d 661', '688 F.3d 1164', '17 U.S.C. § 107', '121 F.3d 516', '307 F.3d 197', '203 F.3d 596', '126 F.3d 977', '787 F.2d 1208', '714 F.2d 1240', '116 S.Ct. 804', '516 U.S. 233', '376 F.3d 841', '35 F.3d 1435', '118 F.3d 955', '689 F.3d 29', '37 C.F.R. § 202.1', '725 F.2d 521', '77 F.3d 909', '323 F.3d 805', '977 F.2d 1510', '797 F.2d 1222', '124 F.3d 1366', '387 F.3d 522', '886 F.2d 1173', '982 F.2d 693', '25 L.Ed. 841', '11 Otto 99', '101 U.S. 99', '132 S.Ct. 873', '98 L.Ed. 630', '347 U.S. 201', '499 U.S. 340', '975 F.2d 832', '17 U.S.C. § 101', '17 U.S.C. § 102', '49 F.3d 807', '225 F.3d 1068', '897 F.2d 1572', '28 U.S.C. § 1295', '2012 WL 9028839', '872 F.Supp.2d 974', '2012 U.S. Dist. LEXIS 66417']\n"
     ]
    }
   ],
   "source": [
    "case_names = oracle_data[\"results\"][0][\"cites_to\"]\n",
    "citations = []\n",
    "for case in case_names:\n",
    "    citations.append(case[\"cite\"])\n",
    "print(citations)"
   ]
  },
  {
   "cell_type": "code",
   "execution_count": null,
   "metadata": {},
   "outputs": [],
   "source": [
    "oracle_download = client.fetch(query=\"750 F.3d 1339\")\n",
    "oracle_data[\"results\"][0][\"name\"]\n",
    "case_laws = []\n",
    "for case in citations:\n",
    "    json_obj = client.fetch(query = case)\n",
    "    obj = json_obj.json()\n",
    "    obj [\"results\"][0][\"name\"]\n",
    "    case_laws.append(obj [\"results\"][0][\"name\"])"
   ]
  },
  {
   "cell_type": "code",
   "execution_count": 13,
   "metadata": {},
   "outputs": [
    {
     "name": "stdout",
     "output_type": "stream",
     "text": [
      "2013 U.S. Dist. LEXIS 8113\n"
     ]
    }
   ],
   "source": [
    "print (case_names [0][\"cite\"])"
   ]
  },
  {
   "cell_type": "code",
   "execution_count": 8,
   "execution_count": null,
   "metadata": {},
   "outputs": [
    {
     "data": {
      "text/plain": [
       "'Oracle America, Inc. v. Google Inc.'"
      ]
     },
     "execution_count": 8,
     "metadata": {},
     "output_type": "execute_result"
    }
   ],
   "source": [
    "oracle = client.read_decision_from_response(oracle_download)\n",
    "oracle.name_abbreviation"
   ]
  },
  {
   "cell_type": "code",

   "execution_count": 9,

   "execution_count": null,

   "metadata": {},
   "outputs": [
    {
     "ename": "NameError",
     "evalue": "name 'oracle' is not defined",
     "output_type": "error",
     "traceback": [
      "\u001b[1;31m---------------------------------------------------------------------------\u001b[0m",
      "\u001b[1;31mNameError\u001b[0m                                 Traceback (most recent call last)",

      "Cell \u001b[1;32mIn[9], line 1\u001b[0m\n\u001b[1;32m----> 1\u001b[0m \u001b[43moracle_case\u001b[49m\u001b[38;5;241m.\u001b[39mopinions[\u001b[38;5;241m0\u001b[39m]\u001b[38;5;241m.\u001b[39mtype\n",
      "\u001b[1;31mNameError\u001b[0m: name 'oracle_case' is not defined"

     ]
    }
   ],
   "source": [
    "oracle.opinions[0].type"
   ]
  },
  {
   "cell_type": "code",
   "execution_count": null,
   "metadata": {},
   "outputs": [
    {
     "ename": "CaseAccessProjectAPIError",
     "evalue": "Invalid token. To fetch full opinion text using the full_case parameter, set the CAPClient's 'api_key' attribute to your API key for the Case Access Project. See https://api.case.law/",
     "output_type": "error",
     "traceback": [
      "\u001b[1;31m---------------------------------------------------------------------------\u001b[0m",
      "\u001b[1;31mCaseAccessProjectAPIError\u001b[0m                 Traceback (most recent call last)",
      "Cell \u001b[1;32mIn[36], line 1\u001b[0m\n\u001b[1;32m----> 1\u001b[0m thornton \u001b[38;5;241m=\u001b[39m \u001b[43mclient\u001b[49m\u001b[38;5;241;43m.\u001b[39;49m\u001b[43mread_cite\u001b[49m\u001b[43m(\u001b[49m\u001b[38;5;124;43m\"\u001b[39;49m\u001b[38;5;124;43m1 Breese 34\u001b[39;49m\u001b[38;5;124;43m\"\u001b[39;49m\u001b[43m,\u001b[49m\u001b[43m \u001b[49m\u001b[43mfull_case\u001b[49m\u001b[38;5;241;43m=\u001b[39;49m\u001b[38;5;28;43;01mTrue\u001b[39;49;00m\u001b[43m)\u001b[49m\n",
      "File \u001b[1;32mc:\\Python312\\Lib\\site-packages\\justopinion\\download.py:163\u001b[0m, in \u001b[0;36mCAPClient.read_cite\u001b[1;34m(self, cite, full_case)\u001b[0m\n\u001b[0;32m    143\u001b[0m \u001b[38;5;28;01mdef\u001b[39;00m \u001b[38;5;21mread_cite\u001b[39m(\n\u001b[0;32m    144\u001b[0m     \u001b[38;5;28mself\u001b[39m, cite: Union[\u001b[38;5;28mstr\u001b[39m, CaseCitation, CAPCitation], full_case: \u001b[38;5;28mbool\u001b[39m \u001b[38;5;241m=\u001b[39m \u001b[38;5;28;01mFalse\u001b[39;00m\n\u001b[0;32m    145\u001b[0m ) \u001b[38;5;241m-\u001b[39m\u001b[38;5;241m>\u001b[39m Decision:\n\u001b[0;32m    146\u001b[0m \u001b[38;5;250m    \u001b[39m\u001b[38;5;124;03m\"\"\"\u001b[39;00m\n\u001b[0;32m    147\u001b[0m \u001b[38;5;124;03m    Download and deserialize a Decision from Caselaw Access Project API.\u001b[39;00m\n\u001b[0;32m    148\u001b[0m \n\u001b[1;32m   (...)\u001b[0m\n\u001b[0;32m    161\u001b[0m \u001b[38;5;124;03m        the first case in the \"results\" list for this queried citation.\u001b[39;00m\n\u001b[0;32m    162\u001b[0m \u001b[38;5;124;03m    \"\"\"\u001b[39;00m\n\u001b[1;32m--> 163\u001b[0m     response \u001b[38;5;241m=\u001b[39m \u001b[38;5;28;43mself\u001b[39;49m\u001b[38;5;241;43m.\u001b[39;49m\u001b[43mfetch_cite\u001b[49m\u001b[43m(\u001b[49m\u001b[43mcite\u001b[49m\u001b[38;5;241;43m=\u001b[39;49m\u001b[43mcite\u001b[49m\u001b[43m,\u001b[49m\u001b[43m \u001b[49m\u001b[43mfull_case\u001b[49m\u001b[38;5;241;43m=\u001b[39;49m\u001b[43mfull_case\u001b[49m\u001b[43m)\u001b[49m\n\u001b[0;32m    164\u001b[0m     \u001b[38;5;28;01mreturn\u001b[39;00m \u001b[38;5;28mself\u001b[39m\u001b[38;5;241m.\u001b[39mread_decision_from_response(response\u001b[38;5;241m=\u001b[39mresponse)\n",
      "File \u001b[1;32mc:\\Python312\\Lib\\site-packages\\justopinion\\download.py:85\u001b[0m, in \u001b[0;36mCAPClient.fetch_cite\u001b[1;34m(self, cite, full_case)\u001b[0m\n\u001b[0;32m     83\u001b[0m \u001b[38;5;28;01mif\u001b[39;00m response\u001b[38;5;241m.\u001b[39mstatus_code \u001b[38;5;241m==\u001b[39m \u001b[38;5;241m401\u001b[39m:\n\u001b[0;32m     84\u001b[0m     detail \u001b[38;5;241m=\u001b[39m response\u001b[38;5;241m.\u001b[39mjson()[\u001b[38;5;124m\"\u001b[39m\u001b[38;5;124mdetail\u001b[39m\u001b[38;5;124m\"\u001b[39m]\n\u001b[1;32m---> 85\u001b[0m     \u001b[38;5;28;01mraise\u001b[39;00m CaseAccessProjectAPIError(\u001b[38;5;124mf\u001b[39m\u001b[38;5;124m\"\u001b[39m\u001b[38;5;132;01m{\u001b[39;00mdetail\u001b[38;5;132;01m}\u001b[39;00m\u001b[38;5;124m \u001b[39m\u001b[38;5;132;01m{\u001b[39;00m\u001b[38;5;28mself\u001b[39m\u001b[38;5;241m.\u001b[39mapi_alert\u001b[38;5;132;01m}\u001b[39;00m\u001b[38;5;124m\"\u001b[39m)\n\u001b[0;32m     86\u001b[0m \u001b[38;5;28;01mreturn\u001b[39;00m response\n",
      "\u001b[1;31mCaseAccessProjectAPIError\u001b[0m: Invalid token. To fetch full opinion text using the full_case parameter, set the CAPClient's 'api_key' attribute to your API key for the Case Access Project. See https://api.case.law/"
     ]
    }
   ],
   "source": [
    "thornton = client.read_cite(\"1 Breese 34\", full_case=True)"
   ]
  },
  {
   "cell_type": "code",
   "execution_count": null,
   "metadata": {},
   "outputs": [],
   "source": [
    "thornton = client.read_cite(\"1 Breese 34\", )"
   ]
  },
  {
   "cell_type": "code",
   "execution_count": null,
   "metadata": {},
   "outputs": [
    {
     "data": {
      "text/plain": [
       "Decision(decision_date=datetime.date(1820, 12, 1), name='John Thornton and others, Appellants, v. George Smiley and John Bradshaw, Appellees', name_abbreviation='Thornton v. Smiley', docket_num=None, citations=[CAPCitation(cite='1 Breese 34', reporter=None, category=None, case_ids=[], type='nominative'), CAPCitation(cite='1 Ill. 34', reporter=None, category=None, case_ids=[], type='official')], parties=[], attorneys=[], first_page=34, last_page=34, court=Court(id=8772, name='Illinois Supreme Court', url=Url('https://api.case.law/v1/courts/ill/'), slug='ill', name_abbreviation='Ill.'), casebody=None, jurisdiction=Jurisdiction(id=29, name='Ill.', url=Url('https://api.case.law/v1/jurisdictions/ill/'), slug='ill', whitelisted=True, name_abbreviation=''), cites_to=[CAPCitation(cite='15 Ill., 284', reporter='Ill.', category='reporters:state', case_ids=[436826], type=None)], id=435800, last_updated=datetime.datetime(2024, 2, 27, 20, 44, 14, 726496, tzinfo=TzInfo(UTC)), frontend_url=Url('https://cite.case.law/ill/1/34/'), analysis=DecisionAnalysis(word_count=507, sha256='412a5868090a78bd542b342b22d9ddec52f50626ada258b640a15a2e6a7c78fe', orc_confidence=None, char_count=2874, pagerank=PageRank(percentile=0.47393709054079985, raw=8.138363859351185e-08), cardinality=202, simhash='1:ef16dd53daca6d88'))"
      ]
     },
     "execution_count": 25,
     "metadata": {},
     "output_type": "execute_result"
    }
   ],
   "source": [
    "thornton"
   ]
  },
  {
   "cell_type": "code",
   "execution_count": null,
   "metadata": {},
   "outputs": [
    {
     "data": {
      "text/plain": [
       "CAPCitation(cite='1 Breese 34', reporter=None, category=None, case_ids=[], type='nominative')"
      ]
     },
     "execution_count": 30,
     "metadata": {},
     "output_type": "execute_result"
    }
   ],
   "source": [
    "thornton.citations[0]"
   ]
  },
  {
   "cell_type": "code",
   "execution_count": null,
   "metadata": {},
   "outputs": [],
   "source": [
    "text_selection = thornton.opinions #[0].select_text([(0, 100), (312, 359)])"
   ]
  },
  {
   "cell_type": "code",
   "execution_count": null,
   "metadata": {},
   "outputs": [
    {
     "data": {
      "text/plain": [
       "[]"
      ]
     },
     "execution_count": 33,
     "metadata": {},
     "output_type": "execute_result"
    }
   ],
   "source": [
    "text_selection"
   ]
  },
  {
   "cell_type": "code",
   "execution_count": null,
   "metadata": {},
   "outputs": [
    {
     "ename": "AttributeError",
     "evalue": "'NoneType' object has no attribute 'data'",
     "output_type": "error",
     "traceback": [
      "\u001b[1;31m---------------------------------------------------------------------------\u001b[0m",
      "\u001b[1;31mAttributeError\u001b[0m                            Traceback (most recent call last)",
      "Cell \u001b[1;32mIn[19], line 1\u001b[0m\n\u001b[1;32m----> 1\u001b[0m parties \u001b[38;5;241m=\u001b[39m \u001b[43mthornton\u001b[49m\u001b[38;5;241;43m.\u001b[39;49m\u001b[43mcasebody\u001b[49m\u001b[38;5;241;43m.\u001b[39;49m\u001b[43mdata\u001b[49m\u001b[38;5;241m.\u001b[39mparties[\u001b[38;5;241m0\u001b[39m]\n\u001b[0;32m      2\u001b[0m \u001b[38;5;28mprint\u001b[39m(\u001b[38;5;124mf\u001b[39m\u001b[38;5;124m\"\u001b[39m\u001b[38;5;124mParties: \u001b[39m\u001b[38;5;132;01m{\u001b[39;00mparties\u001b[38;5;132;01m}\u001b[39;00m\u001b[38;5;124m\"\u001b[39m)\n",
      "\u001b[1;31mAttributeError\u001b[0m: 'NoneType' object has no attribute 'data'"
     ]
    }
   ],
   "source": [
    "parties = thornton.casebody.data.parties[0]\n",
    "print(f\"Parties: {parties}\")"
   ]
  },
  {
   "cell_type": "code",
   "execution_count": null,
   "metadata": {},
   "outputs": [],
   "source": [
    "hero.findNearest(hero.findUnit(\"thrower\", hero.findenemies()))"
   ]
  },
  {
   "cell_type": "code",
   "execution_count": null,
   "metadata": {},
   "outputs": [],
   "source": [
    "def section2(args**, kargs**):\n",
    "    combat()\n",
    "    return \"this comes out of this function\""
   ]
  },
  {
   "cell_type": "code",
   "execution_count": null,
   "metadata": {},
   "outputs": [],
   "source": [
    "if section == 1:\n",
    "    section = section1()\n",
    "if section == 2:\n",
    "    section = section2()"
   ]
  },
  {
   "cell_type": "code",
   "execution_count": null,
   "metadata": {},
   "outputs": [],
   "source": [
    "# Declare a global variable\n",
    "my_global_var = \"Hello, World!\"\n",
    "section = 1\n",
    "def print_global():\n",
    "    # Use the global keyword to indicate the global variable\n",
    "    global my_global_var\n",
    "    print(my_global_var)\n",
    "\n",
    "print_global()  # This will print \"Hello, World!\"\n",
    "def findT():\n",
    "    if enemy.type == 'oasis-guardian':\n",
    "        global section += 1\n"
   ]
  }
 ],
 "metadata": {
  "kernelspec": {
   "display_name": "Python 3",
   "language": "python",
   "name": "python3"
  },
  "language_info": {
   "codemirror_mode": {
    "name": "ipython",
    "version": 3
   },
   "file_extension": ".py",
   "mimetype": "text/x-python",
   "name": "python",
   "nbconvert_exporter": "python",
   "pygments_lexer": "ipython3",
   "version": "3.12.4"
  }
 },
 "nbformat": 4,
 "nbformat_minor": 2
}
