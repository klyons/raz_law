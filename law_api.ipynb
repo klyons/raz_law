{
 "cells": [
  {
   "cell_type": "code",
   "execution_count": 13,
   "metadata": {},
   "outputs": [],
   "source": [
    "# https://justopinion.readthedocs.io/en/latest/guides/getting_started.html#selecting-text-from-an-opinion\n",
    "# https://medium.datadriveninvestor.com/legal-and-justice-related-python-libraries-d3888c08768a"
   ]
  },
  {
   "cell_type": "code",
   "execution_count": 22,
   "metadata": {},
   "outputs": [],
   "source": [
    "from justopinion import CAPClient\n",
    "#49eb70bc06a32b6ec66b336ddcb5d68a6d010214"
   ]
  },
  {
   "cell_type": "code",
   "execution_count": 23,
   "metadata": {},
   "outputs": [],
   "source": [
    "client = CAPClient(api_token='49eb70bc06a32b6ec66b336ddcb5d68a6d010214')"
   ]
  },
  {
   "cell_type": "code",
   "execution_count": 24,
   "metadata": {},
   "outputs": [],
   "source": [
    "\n",
    "oracle_download = client.fetch(query=\"750 F.3d 1339\")\n",
    "#oracle_case = client.read_cite(\"750 F.3d 1339\", full_case=True)"
   ]
  },
  {
   "cell_type": "markdown",
   "metadata": {},
   "source": [
    "Raazya hates spanish, and coding"
   ]
  },
  {
   "cell_type": "code",
   "execution_count": 25,
   "metadata": {},
   "outputs": [
    {
     "data": {
      "text/plain": [
       "<Response [200]>"
      ]
     },
     "execution_count": 25,
     "metadata": {},
     "output_type": "execute_result"
    }
   ],
   "source": [
    "oracle_download"
   ]
  },
  {
   "cell_type": "code",
   "execution_count": 18,
   "metadata": {},
   "outputs": [
    {
     "data": {
      "text/plain": [
       "'ORACLE AMERICA, INC., Plaintiff-Appellant, v. GOOGLE INC., Defendant-Cross-Appellant'"
      ]
     },
     "execution_count": 18,
     "metadata": {},
     "output_type": "execute_result"
    }
   ],
   "source": [
    "oracle_data = oracle_download.json()\n",
    "oracle_data[\"results\"][0][\"name\"]"
   ]
  },
  {
   "cell_type": "code",
   "execution_count": 19,
   "metadata": {},
   "outputs": [
    {
     "name": "stdout",
     "output_type": "stream",
     "text": [
      "['2013 U.S. Dist. LEXIS 8113', '2013 WL 831528', '439 F.3d 1312', '283 U.S. 494', '2013 U.S. Dist. LEXIS 144061', '720 F.2d 231', '263 F.3d 942', '517 U.S. 370', '932 F.Supp. 220', '2009 U.S. Dist. LEXIS 57525', '2011 U.S. Dist. LEXIS 37735', '972 F.2d 1031', '360 F.3d 644', '41 Stan. L.Rev. 1045', '1984 Duke L.J. 663', '812 F.2d 421', '388 F.3d 1189', '991 F.2d 563', '575 F.3d 935', '595 F.3d 1340', '336 F.3d 811', '81 F.2d 49', '868 F.2d 1313', '227 F.3d 1110', '447 F.3d 769', '508 F.3d 1146', '562 F.3d 630', '619 F.3d 301', '654 F.3d 989', '349 F.3d 622', '353 F.3d 792', '527 F.3d 1318', '33 F.3d 1477', '794 F.2d 432', '709 F.3d 1273', '725 F.3d 1170', '471 U.S. 539', '495 U.S. 207', '510 U.S. 569', '104 F.2d 661', '688 F.3d 1164', '17 U.S.C. § 107', '121 F.3d 516', '307 F.3d 197', '203 F.3d 596', '126 F.3d 977', '787 F.2d 1208', '714 F.2d 1240', '116 S.Ct. 804', '516 U.S. 233', '376 F.3d 841', '35 F.3d 1435', '118 F.3d 955', '689 F.3d 29', '37 C.F.R. § 202.1', '725 F.2d 521', '77 F.3d 909', '323 F.3d 805', '977 F.2d 1510', '797 F.2d 1222', '124 F.3d 1366', '387 F.3d 522', '886 F.2d 1173', '982 F.2d 693', '25 L.Ed. 841', '11 Otto 99', '101 U.S. 99', '132 S.Ct. 873', '98 L.Ed. 630', '347 U.S. 201', '499 U.S. 340', '975 F.2d 832', '17 U.S.C. § 101', '17 U.S.C. § 102', '49 F.3d 807', '225 F.3d 1068', '897 F.2d 1572', '28 U.S.C. § 1295', '2012 WL 9028839', '872 F.Supp.2d 974', '2012 U.S. Dist. LEXIS 66417']\n"
     ]
    }
   ],
   "source": [
    "case_names = oracle_data[\"results\"][0][\"cites_to\"]\n",
    "citations = []\n",
    "for case in case_names:\n",
    "    citations.append(case[\"cite\"])\n",
    "print(citations)"
   ]
  },
  {
   "cell_type": "code",
   "execution_count": 29,
   "metadata": {},
   "outputs": [
    {
     "name": "stdout",
     "output_type": "stream",
     "text": [
      "<Response [200]>\n",
      "<Response [200]>\n",
      "<Response [200]>\n",
      "<Response [200]>\n",
      "<Response [200]>\n",
      "<Response [200]>\n",
      "<Response [200]>\n",
      "<Response [200]>\n",
      "<Response [200]>\n",
      "<Response [200]>\n",
      "<Response [200]>\n",
      "<Response [200]>\n",
      "<Response [200]>\n",
      "An error occurred: Could not locate a CaseCitation in the text 41 Stan. L.Rev. 1045.\n",
      "An error occurred: Could not locate a CaseCitation in the text 1984 Duke L.J. 663. FullJournalCitation('1984 Duke L.J. 663', groups={'volume': '1984', 'reporter': 'Duke L.J.', 'page': '663'}, metadata=ResourceCitation.Metadata(parenthetical=None, pin_cite=None, year=None)) was type FullJournalCitation, not CaseCitation.\n",
      "<Response [200]>\n",
      "<Response [200]>\n",
      "<Response [200]>\n",
      "<Response [200]>\n",
      "<Response [200]>\n",
      "<Response [200]>\n",
      "<Response [200]>\n",
      "<Response [200]>\n",
      "<Response [200]>\n",
      "<Response [200]>\n",
      "<Response [200]>\n",
      "<Response [200]>\n",
      "<Response [200]>\n",
      "<Response [200]>\n",
      "<Response [200]>\n",
      "<Response [200]>\n",
      "<Response [200]>\n",
      "<Response [200]>\n",
      "<Response [200]>\n",
      "<Response [200]>\n",
      "<Response [200]>\n",
      "<Response [200]>\n",
      "<Response [200]>\n",
      "<Response [200]>\n",
      "<Response [200]>\n",
      "<Response [200]>\n",
      "An error occurred: Could not locate a CaseCitation in the text 17 U.S.C. § 107. FullLawCitation('17 U.S.C. § 107', groups={'title': '17', 'reporter': 'U.S.C.', 'section': '107'}, metadata=FullLawCitation.Metadata(parenthetical=None, pin_cite=None, year=None, publisher=None, day=None, month=None)) was type FullLawCitation, not CaseCitation.\n",
      "<Response [200]>\n",
      "<Response [200]>\n",
      "<Response [200]>\n",
      "<Response [200]>\n",
      "<Response [200]>\n",
      "<Response [200]>\n",
      "<Response [200]>\n",
      "<Response [200]>\n",
      "<Response [200]>\n",
      "<Response [200]>\n",
      "<Response [200]>\n",
      "<Response [200]>\n",
      "An error occurred: Could not locate a CaseCitation in the text 37 C.F.R. § 202.1. FullLawCitation('37 C.F.R. § 202.1', groups={'chapter': '37', 'reporter': 'C.F.R.', 'section': '202.1'}, metadata=FullLawCitation.Metadata(parenthetical=None, pin_cite=None, year=None, publisher=None, day=None, month=None)) was type FullLawCitation, not CaseCitation.\n",
      "<Response [200]>\n",
      "<Response [200]>\n",
      "<Response [200]>\n",
      "<Response [200]>\n",
      "<Response [200]>\n",
      "<Response [200]>\n",
      "<Response [200]>\n",
      "<Response [200]>\n",
      "<Response [200]>\n",
      "<Response [200]>\n",
      "<Response [200]>\n",
      "<Response [200]>\n",
      "<Response [200]>\n",
      "<Response [200]>\n",
      "<Response [200]>\n",
      "<Response [200]>\n",
      "<Response [200]>\n",
      "An error occurred: Could not locate a CaseCitation in the text 17 U.S.C. § 101. FullLawCitation('17 U.S.C. § 101', groups={'title': '17', 'reporter': 'U.S.C.', 'section': '101'}, metadata=FullLawCitation.Metadata(parenthetical=None, pin_cite=None, year=None, publisher=None, day=None, month=None)) was type FullLawCitation, not CaseCitation.\n",
      "An error occurred: Could not locate a CaseCitation in the text 17 U.S.C. § 102. FullLawCitation('17 U.S.C. § 102', groups={'title': '17', 'reporter': 'U.S.C.', 'section': '102'}, metadata=FullLawCitation.Metadata(parenthetical=None, pin_cite=None, year=None, publisher=None, day=None, month=None)) was type FullLawCitation, not CaseCitation.\n",
      "<Response [200]>\n",
      "<Response [200]>\n",
      "<Response [200]>\n",
      "An error occurred: Could not locate a CaseCitation in the text 28 U.S.C. § 1295. FullLawCitation('28 U.S.C. § 1295', groups={'title': '28', 'reporter': 'U.S.C.', 'section': '1295'}, metadata=FullLawCitation.Metadata(parenthetical=None, pin_cite=None, year=None, publisher=None, day=None, month=None)) was type FullLawCitation, not CaseCitation.\n",
      "<Response [200]>\n",
      "<Response [200]>\n",
      "<Response [200]>\n"
     ]
    }
   ],
   "source": [
    "oracle_download = client.fetch(query=\"750 F.3d 1339\")\n",
    "oracle_data[\"results\"][0][\"name\"]\n",
    "case_titles = []\n",
    "for citation in citations:\n",
    "    try:\n",
    "        json_obj = client.fetch(query=citation)\n",
    "        print(json_obj)\n",
    "    except Exception as e:\n",
    "        print(f\"An error occurred: {e}\")\n",
    "    obj = json_obj.json()\n",
    "    if obj['count'] == 1:\n",
    "        case_titles.append(obj[\"results\"][0][\"name\"])\n",
    "    #print(obj)\n",
    "    #print(obj[\"results\"][0][\"name\"])\n",
    "    #obj = json_obj.json()\n",
    "    #print(obj[\"results\"][0][\"name\"])\n",
    "    #case_laws.append(obj[\"results\"][0][\"name\"])"
   ]
  },
  {
   "cell_type": "code",
   "execution_count": 30,
   "metadata": {},
   "outputs": [
    {
     "name": "stdout",
     "output_type": "stream",
     "text": [
      "['SMITHKLINE BEECHAM CORPORATION, SmithKline Beecham, P.L.C., Plaintiffs/Counterclaim Defendants-Appellants, and GlaxoSmithKline, P.L.C., Plaintiff/Counterclaim Defendant, and Beecham Group, P.L.C., Plaintiff, v. APOTEX CORPORATION, Apotex Inc., and Torpharm, Inc. Defendants/Counterclaimants-Appellees', 'GASOLINE PRODUCTS CO., INC., v. CHAMPLIN REFINING CO.', 'WARNER BROS. INC., Film Export, A.G., and DC Comics Inc., Plaintiffs-Appellants-Cross-Appellees, v. AMERICAN BROADCASTING COMPANIES, INC. and Stephen J. Cannell Productions, Defendants-Appellees-Cross-Appellants', \"DANJAQ LLC, a Delaware limited liability company; Metro-Goldwyn-Mayer, Inc., a Delaware corporation; United Artists Corporation, a Delaware corporation; United Artists Pictures Inc., a Delaware corporation; Seventeen Leasing Corporation, a Delaware corporation; Eighteen Leasing Corporation, a Delaware corporation; MGM/UA Communications Co., Plaintiffs-Appellees, v. SONY CORPORATION, a Japanese corporation; Sony Pictures Entertainment, Inc., a Delaware corporation; Columbia Pictures Television, Inc., a Delaware corporation; John Calley, an individual, Defendants, and Kevin O'Conovan McClory; Spectre Associates, Inc., an entity of unknown capacity, Defendants-Appellants\", 'MARKMAN et al. v. WESTVIEW INSTRUMENTS, INC., et al.', 'PIVOT POINT INTERNATIONAL, INC. v. CHARLENE PRODUCTS, INC., et al.', 'NORTH COAST INDUSTRIES, Plaintiff-Appellant, v. JASON MAXWELL, INC., Defendant-Appellee', 'Neil GAIMAN and Marvels and Miracles, LLC, Plaintiffs-Appellees/Cross-Appellants, v. Todd McFARLANE, et al., Defendants-Appellants/Cross-Appellees', 'Neil GAIMAN and Marvels and Miracles, LLC, Plaintiffs-Appellees/Cross-Appellants, v. Todd McFARLANE, et al., Defendants-Appellants/Cross-Appellees', 'Neil GAIMAN and Marvels and Miracles, LLC, Plaintiffs-Appellees/Cross-Appellants, v. Todd McFARLANE, et al., Defendants-Appellants/Cross-Appellees', 'Leslie T. BAXTER, Plaintiff-Appellant, v. MCA, INC., a Delaware corporation; Universal City Studios, Inc., a Delaware corporation; Music Corporation of America, a California corporation; MCA Records, Inc., a California corporation; Merchandising Corporation of America, a California corporation; and John T. Williams, Defendants-Appellees', 'James W. NEWTON, Jr., dba Janew Music, Plaintiff-Appellant, v. Michael DIAMOND; Adam Horowitz; Adam Yauch, dba Beastie Boys; Capitol Records, Inc., a Delaware Corporation; Grand Royal Records, Inc., a California Corporation; Universal Polygram International Publishing, Inc., a Delaware Corporation; Brooklyn Dust Music, an entity of unknown origin; Mario Caldato, Jr., an individual; Janus Films, LLC, a New York Limited Liability Company; Criterion Collection, a California Partnership; Voyager Publishing Company, Inc., a Delaware Corporation; Sony Music Entertainment Group, a Delaware Corporation; BMG Direct Marketing, Inc., a Delaware Corporation; The Columbia House Company, an entity of unknown origin, Defendants-Appellees', 'Harold NORSE, Plaintiff-Appellant, v. HENRY HOLT AND CO. and Ted Morgan, Defendants-Appellees', 'Camarie MANGUM, Plaintiff-Appellant, v. ACTION COLLECTION SERVICE, INC., dba Action Collection; Bonneville Billing & Collections, Inc.; City of Pocatello; Don Furu, Defendants-Appellees', 'TRADING TECHNOLOGIES INTERNATIONAL, INC., Plaintiff-Appellant, v. ESPEED, INC., Ecco LLC, Ecco Ware Ltd., and Espeed International, Ltd., Defendants-Cross Appellants', 'Leslie A. KELLY, an individual, dba Les Kelly Publications, dba Les Kelly Enterprises, dba Show Me The Gold, Plaintiff-Appellant, v. ARRIBA SOFT CORPORATION, an Illinois Corporation, Defendant-Appellee', 'SHELDON et al. v. METRO-GOLDWYN PICTURES CORPORATION et al.', 'Heidi S. WEISSMANN, M.D., Plaintiff-Appellant, Cross-Appellee, v. Leonard M. FREEMAN, M.D., Defendant-Appellee, Cross-Appellant', 'WORLDWIDE CHURCH OF GOD, a California Corporation, Plaintiff-Counter-Defendant-Appellant, v. PHILADELPHIA CHURCH OF GOD, INC., an Oklahoma Corporation, Defendant-Counter-Claimant-Appellee', \"WALL DATA INCORPORATED, Plaintiff-Appellee, v. LOS ANGELES COUNTY SHERIFF'S DEPARTMENT, a division of the County of Los Angeles; County of Los Angeles, Defendants-Appellants\", 'PERFECT 10, INC., a California corporation, Plaintiff-Appellant, v. AMAZON.COM, INC., a corporation; A9.Com Inc., a corporation, Defendants-Appellees; Perfect 10, Inc., a California corporation, Plaintiff-Appellant, v. Google Inc., a corporation, Defendant-Appellee; Perfect 10, Inc., a California corporation, Plaintiff-Appellee, v. Google Inc., a corporation, Defendant-Appellant; Perfect 10, Inc., a California corporation, Plaintiff-Appellant, v. Google Inc., a corporation, Defendant-Appellee; Perfect 10, Inc., a California corporation, Plaintiff-Appellee, v. Google Inc., a corporation, Defendant-Appellant; Perfect 10, Inc., a California corporation, Plaintiff-Appellee, v. Google Inc., a corporation, Defendant-Appellant', 'A.V., a minor, by his next friend Robert VANDERHYE; K.W., a minor, by his next friend Kevin Wade, Sr.; E.N., a minor, by her next friend Scott Nelson; M.N., a minor, by her next friend Scott Nelson, Plaintiffs-Appellants, v. IPARADIGMS, LLC, Defendant-Appellee; A.V., a minor, by his next friend Robert Vanderhye; K.W., a minor, by his next friend Kevin Wade, Sr.; E.N., a minor, by her next friend Scott Nelson; M.N., a minor, by her next friend Scott Nelson, Plaintiffs-Appellees, v. iParadigms, LLC, Defendant-Appellant', 'FLEXIBLE LIFELINE SYSTEMS, INC., Plaintiff-counter-claim-defendant-Appellee, v. PRECISION LIFT, INC.; John Tollenaere, Defendants-counter-claimants-Appellants', 'ELVIS PRESLEY ENTERPRISES, INC., a Tennessee Corporation; National Bank of Commerce, trustee of the Promenade Trust; Sofa Entertainment, Inc., a California corporation; Jane Meadows Allen, trustee of the Allen Family Revocable Living Trust; Jerry Leiber, individually dba Jerry Leiber Music; Mike Stoller, individually dba Mike Stoller Music; Julian J. Aberbach, an individual; Alfred Wertheimer, an individual, Plaintiffs-Appellees, v. PASSPORT VIDEO, a business of unknown form and origin; Passport International Productions, Inc., a California Corporation; Passport International Productions of California, Inc., a California Corporation; Dante J. Pugliese, an individual, Defendants-Appellants, and Does, 1 Through 10, inclusive; Passport Entertainment, a California Corporation, Defendants', 'MATTEL INC., a Delaware Corporation, Plaintiff-Appellant, v. WALKING MOUNTAIN PRODUCTIONS, a California Business Entity; Tom Forsythe, an individual d/b/a Walking Mountain Productions, Defendants-Appellees; Mattel Inc., a Delaware Corporation, Plaintiff-Appellee, v. Walking Mountain Productions, a California Business Entity; Tom Forsythe, an individual d/b/a Walking Mountain Productions, Defendants-Appellants', 'GOLDEN BRIDGE TECHNOLOGY, INC., Plaintiff-Appellant, v. NOKIA, INC., Defendant, and Lucent Technologies, Inc., Defendant-Appellee', 'SHAWMUT BANK, N.A., as Trustee; Eaton Yance California Municipals Trust, Plaintiffs, and Municipal Securities Trust High Income Series 10; Municipal Securities Trust High Income Series 11, Plaintiffs-Appellants, v. KRESS ASSOCIATES; Paul F. Klapper; Brobeck, Phleger & Harrison; Jones, Hall, Hill & White; Freytag & LaForce; Bear, Stearns & Company, Inc., Defendants, and First Interstate Bank of California, Defendant-Appellee; SHAWMUT BANK, N.A., as Trustee; Municipal Securities Trust High Income Series 10; Municipal Securities Trust High Income Series 11, Plaintiffs, and Eaton Vance California Municipals Trust, Plaintiff-Appellant, v. KRESS ASSOCIATES; Paul F. Klapper; Brobeck, Phleger & Harrison; Jones, Hall, Hill & White; Freytag & LaForce, Defendants, and Bear, Stearns & Company, Inc.; First Interstate Bank of California, Defendants-Appellees; SHAWMUT BANK, N.A., as Trustee; Eaton Yance California Municipals Trust; Municipal Securities Trust High Income Series 10; Municipal Securities Trust High Income Series 11, Plaintiffs, v. KRESS ASSOCIATES; Paul F. Klapper, et al., Defendants, and Thomas C. Dashiell, Esq., Defendant-Appellee, and Freytag & LaForce, Defendant-Cross-Defendant-Appellee, v. FIRST INTERSTATE BANK OF CALIFORNIA, Defendant-Cross-Claimant-Appellant, v. BROBECK, PHLEGER & HARRISON; Jones, Hall, Hill & White, Defendants-Cross-Defendants-Appellees, v. BEAR, STEARNS & COMPANY, INC., Defendant-Third-Party-Defendant-Appellee', 'Marvin FISHER d/b/a Marvin Music Company and Jack Segal, Plaintiffs-Appellants, v. Rick DEES, Atlantic Recording Corporation, Warner Communications, Inc., Defendants-Appellees', 'SOFA ENTERTAINMENT, INC., a California corporation, Plaintiff-Appellant, v. DODGER PRODUCTIONS, INC., a New York corporation; Dodgers Theatricals, Ltd., a New York Corporation, Defendants-Appellees; Sofa Entertainment, Inc., a California corporation, Plaintiff-Appellant, v. Dodger Productions, Inc., a New York corporation; Dodgers Theatricals, Ltd., a New York Corporation, Defendants-Appellees', 'Dereck SELTZER, Plaintiff-Appellant, v. GREEN DAY, INC., a corporation; Green Day Touring, Inc., a corporation; Green Day, a partnership; Billie Joe Armstrong, an individual; Frank Edwin Wright, III, an individual, aka Tre Cool; Michael Ryan Pritchard, an individual, aka Dirnt Mike; Warner Bros. Records, Inc., a corporation; Infect Productions, a partnership; Roger Staub, an individual; Performance Environmental Design, a business entity (form unknown), Defendants-Appellees; Dereck Seltzer, Plaintiff-Appellant, v. Green Day, Inc., a corporation; Green Day Touring, Inc., a corporation; Green Day, a partnership; Billie Joe Armstrong, an individual; Frank Edwin Wright, III, an individual, aka Tre Cool; Michael Ryan Pritchard, an individual, aka Dirnt Mike; Warner Bros. Records, Inc., a corporation; Infect Productions, a partnership; Roger Staub, an individual; Performance Environmental Design, a business entity (form unknown), Defendants-Appellees', 'HARPER & ROW, PUBLISHERS, INC., et al. v. NATION ENTERPRISES et al.', 'STEWART et al. v. ABEND, dba AUTHORS RESEARCH CO.', 'CAMPBELL, aka SKYYWALKER, et al. v. ACUFF-ROSE MUSIC, INC.', 'DELLAR et al. v. SAMUEL GOLDWYN, Inc., et al.', 'Noelia Lorenzo MONGE, an individual; Jorge Reynoso, an individual, Plaintiffs-Appellants, v. MAYA MAGAZINES, INC., a Florida Corporation; Maya Publishing Group, LLC, a Florida Limited Liability Company, Defendants-Appellees; Noelia Lorenzo Monge, an individual; Jorge Reynoso, an individual, Plaintiffs-Appellants, v. Maya Magazines, Inc., a Florida Corporation; Maya Publishing Group, LLC, a Florida Limited Liability Company, Defendants-Appellees', 'Noelia Lorenzo MONGE, an individual; Jorge Reynoso, an individual, Plaintiffs-Appellants, v. MAYA MAGAZINES, INC., a Florida Corporation; Maya Publishing Group, LLC, a Florida Limited Liability Company, Defendants-Appellees; Noelia Lorenzo Monge, an individual; Jorge Reynoso, an individual, Plaintiffs-Appellants, v. Maya Magazines, Inc., a Florida Corporation; Maya Publishing Group, LLC, a Florida Limited Liability Company, Defendants-Appellees', 'PRACTICE MANAGEMENT INFORMATION CORPORATION, a California Corporation, Plaintiff-Appellant, v. The AMERICAN MEDICAL ASSOCIATION, an Illinois nonprofit corporation, Defendant-Appellee', 'DUN & BRADSTREET SOFTWARE SERVICES, INC.; Geac Computer Systems, Inc. v. GRACE CONSULTING, INC.; Grace Maintenance Int.; Anthony Ilutzi Geac Enterprise Solutions, Inc. f/k/a Geac Computer Systems, Inc.; Dun & Bradstreet Software Services, Inc.; Geac Computer Systems v. Grace Consulting, Inc.; Grace Maintenance; Anthony Ilutzi', 'SONY COMPUTER ENTERTAINMENT, INC., a Japanese corporation; Sony Computer Entertainment America, Inc., a Delaware corporation, Plaintiffs-Appellees, v. CONNECTIX CORPORATION, a California corporation, Defendant-Appellant', 'AMERICAN DENTAL ASSOCIATION, Plaintiff-Appellant, v. DELTA DENTAL PLANS ASSOCIATION, Defendant-Appellee', 'The TORO COMPANY, a Delaware corporation, Plaintiff-Appellant, v. R & R PRODUCTS CO., an Arizona corporation, Defendant-Appellee', 'APPLE COMPUTER, INC., a California corporation, Appellant, v. FRANKLIN COMPUTER CORPORATION, a Pennsylvania corporation', 'LOTUS DEVELOPMENT CORP. v. BORLAND INTERNATIONAL, INC.', \"Seth SWIRSKY, an individual d/b/a Julian's Dad; Warryn Campbell, Plaintiffs-Appellants, v. Mariah CAREY; James Harris, III; Terry Lewis; Flyte Time Productions, Inc., an entity of unknown designation, e/s/a Flyte Tyme Tunes, Inc.; ATY Songs LLC; Rye Songs; Columbia Records; Sony Music Entertainment, Inc.; EMI April Music, Defendants-Appellees\", 'APPLE COMPUTER, INC., a California corporation, Plaintiff-Appellee, v. MICROSOFT CORPORATION, a Delaware corporation, Defendant-Appellant; APPLE COMPUTER, INC., a California corporation, Plaintiff-Appellee, v. MICROSOFT CORPORATION, a Delaware corporation, Defendant, and Hewlett-Packard Co., Defendant-Appellant; APPLE COMPUTER, INC., Plaintiff-Appellant, v. MICROSOFT CORPORATION, a Delaware corporation; Hewlett-Packard Co., a California corporation, Defendants-Appellees', 'SOFTEL, INC., Plaintiff-Appellant, v. DRAGON MEDICAL AND SCIENTIFIC COMMUNICATIONS, INC.; Dragon Group Ltd., also known as Dragon Medical and Scientific Communications, Ltd.; John R. Darsee; H. Eugene Hodge; Nina Romanoff, Defendants-Appellees', 'SOCIETY OF the HOLY TRANSFIGURATION MONASTERY, INC., Plaintiff, Appellee, v. Archbishop GREGORY of Denver, Colorado, Defendant, Appellant', 'SOCIETY OF the HOLY TRANSFIGURATION MONASTERY, INC., Plaintiff, Appellee, v. Archbishop GREGORY of Denver, Colorado, Defendant, Appellant', 'APPLE COMPUTER, INC., Plaintiff-Appellee, v. FORMULA INTERNATIONAL INC., Defendant-Appellant', 'REED-UNION CORPORATION, Plaintiff-Appellant, v. TURTLE WAX, INC., Defendant-Appellee', 'Richard SATAVA, an individual; Satava Art Glass, a sole proprietorship, Plaintiffs-Appellees, v. Christopher LOWRY, an individual; Christopher Richards, an Opinion individual; Makawao Glassworks, LLC, dba Hot Island Glass, Defendants-Appellants', 'SEGA ENTERPRISES LTD., a Japanese corporation, Plaintiff-Appellee, v. ACCOLADE, INC., a California corporation, Defendant-Appellant', 'WHELAN ASSOCIATES, INC. v. JASLOW DENTAL LABORATORY, INC., Dentcom, Inc., Edward Jaslow, Rand Jaslow, and Joseph M. Cerra. Appeal of JASLOW DENTAL LABORATORY, INC., Edward Jaslow, Rand Jaslow, and Dentcom, Inc.', 'MITEL, INC., a Delaware corporation, Plaintiff-Appellant, v. IQTEL, INC., a Colorado corporation, Defendant-Appellee', 'LEXMARK INTERNATIONAL, INC., Plaintiff-Appellee, v. STATIC CONTROL COMPONENTS, INC., Defendant-Appellant', 'JOHNSON CONTROLS, INC., a Wisconsin corporation, Plaintiff-Appellee, v. PHOENIX CONTROL SYSTEMS, INC., a California corporation; Rodney Larsen and Irene Larsen, husband and wife; John Schratz and Martha Schratz, husband and wife, Defendants-Appellants', 'COMPUTER ASSOCIATES INTERNATIONAL, INC., Plaintiff-Appellant-Cross-Appellee, v. ALTAI, INC., Defendant-Appellee-Cross-Appellant', 'Baker v. Selden', 'MAZER et al., doing business as JUNE LAMP MANUFACTURING CO., v. STEIN et al., doing business as REGLOR OF CALIFORNIA', 'FEIST PUBLICATIONS, INC. v. RURAL TELEPHONE SERVICE CO., INC.', 'ATARI GAMES CORP. and Tengen, Inc., Plaintiffs-Appellants, v. NINTENDO OF AMERICA INC. and Nintendo Co., Ltd., Defendants-Appellees', 'ATARI GAMES CORP. and Tengen, Inc., Plaintiffs-Appellants, v. NINTENDO OF AMERICA INC. and Nintendo Co., Ltd., Defendants-Appellees', 'ATARI GAMES CORP. and Tengen, Inc., Plaintiffs-Appellants, v. NINTENDO OF AMERICA INC. and Nintendo Co., Ltd., Defendants-Appellees', 'LOTUS DEVELOPMENT CORPORATION, Plaintiff, Appellee, v. BORLAND INTERNATIONAL, INC., Defendant, Appellant', 'Joshua ETS-HOKIN, Plaintiff-Appellant, v. SKYY SPIRITS, INC., a Delaware corporation; Maurice Kanbar; Daniel Dadalt; Needham; Does 1 through 50, Defendants-Appellees', 'ATARI GAMES CORPORATION and Tengen, Inc., Plaintiffs/Cross-Appellants, v. NINTENDO OF AMERICA, INC., and Nintendo Co., Ltd., Defendants-Appellants', 'ATARI GAMES CORPORATION and Tengen, Inc., Plaintiffs/Cross-Appellants, v. NINTENDO OF AMERICA, INC., and Nintendo Co., Ltd., Defendants-Appellants', 'ORACLE AMERICA, INC., Plaintiff, v. GOOGLE INC., Defendant']\n"
     ]
    }
   ],
   "source": [
    "print(case_titles)\n",
    "for title in case_titles:\n",
    "    try:\n",
    "        #download data from wikipedia, or another site if possible\n",
    "        pass\n",
    "    except Exception as e:\n",
    "    \tprint(f\"An error occurred: {e}\")\n",
    "    "
   ]
  },
  {
   "cell_type": "code",
   "execution_count": null,
   "metadata": {},
   "outputs": [],
   "source": [
    "for case in case_laws:\t\n",
    "\tprint (case[0][\"cite\"])"
   ]
  },
  {
   "cell_type": "code",
   "execution_count": null,
   "metadata": {},
   "outputs": [
    {
     "data": {
      "text/plain": [
       "'Oracle America, Inc. v. Google Inc.'"
      ]
     },
     "execution_count": 8,
     "metadata": {},
     "output_type": "execute_result"
    }
   ],
   "source": [
    "oracle = client.read_decision_from_response(oracle_download)\n",
    "oracle.name_abbreviation"
   ]
  },
  {
   "cell_type": "code",
   "execution_count": null,
   "metadata": {},
   "outputs": [
    {
     "ename": "NameError",
     "evalue": "name 'oracle' is not defined",
     "output_type": "error",
     "traceback": [
      "\u001b[1;31m---------------------------------------------------------------------------\u001b[0m",
      "\u001b[1;31mNameError\u001b[0m                                 Traceback (most recent call last)",
      "Cell \u001b[1;32mIn[9], line 1\u001b[0m\n\u001b[1;32m----> 1\u001b[0m \u001b[43moracle_case\u001b[49m\u001b[38;5;241m.\u001b[39mopinions[\u001b[38;5;241m0\u001b[39m]\u001b[38;5;241m.\u001b[39mtype\n",
      "\u001b[1;31mNameError\u001b[0m: name 'oracle_case' is not defined"
     ]
    }
   ],
   "source": [
    "oracle.opinions[0].type"
   ]
  },
  {
   "cell_type": "code",
   "execution_count": null,
   "metadata": {},
   "outputs": [
    {
     "ename": "CaseAccessProjectAPIError",
     "evalue": "Invalid token. To fetch full opinion text using the full_case parameter, set the CAPClient's 'api_key' attribute to your API key for the Case Access Project. See https://api.case.law/",
     "output_type": "error",
     "traceback": [
      "\u001b[1;31m---------------------------------------------------------------------------\u001b[0m",
      "\u001b[1;31mCaseAccessProjectAPIError\u001b[0m                 Traceback (most recent call last)",
      "Cell \u001b[1;32mIn[36], line 1\u001b[0m\n\u001b[1;32m----> 1\u001b[0m thornton \u001b[38;5;241m=\u001b[39m \u001b[43mclient\u001b[49m\u001b[38;5;241;43m.\u001b[39;49m\u001b[43mread_cite\u001b[49m\u001b[43m(\u001b[49m\u001b[38;5;124;43m\"\u001b[39;49m\u001b[38;5;124;43m1 Breese 34\u001b[39;49m\u001b[38;5;124;43m\"\u001b[39;49m\u001b[43m,\u001b[49m\u001b[43m \u001b[49m\u001b[43mfull_case\u001b[49m\u001b[38;5;241;43m=\u001b[39;49m\u001b[38;5;28;43;01mTrue\u001b[39;49;00m\u001b[43m)\u001b[49m\n",
      "File \u001b[1;32mc:\\Python312\\Lib\\site-packages\\justopinion\\download.py:163\u001b[0m, in \u001b[0;36mCAPClient.read_cite\u001b[1;34m(self, cite, full_case)\u001b[0m\n\u001b[0;32m    143\u001b[0m \u001b[38;5;28;01mdef\u001b[39;00m \u001b[38;5;21mread_cite\u001b[39m(\n\u001b[0;32m    144\u001b[0m     \u001b[38;5;28mself\u001b[39m, cite: Union[\u001b[38;5;28mstr\u001b[39m, CaseCitation, CAPCitation], full_case: \u001b[38;5;28mbool\u001b[39m \u001b[38;5;241m=\u001b[39m \u001b[38;5;28;01mFalse\u001b[39;00m\n\u001b[0;32m    145\u001b[0m ) \u001b[38;5;241m-\u001b[39m\u001b[38;5;241m>\u001b[39m Decision:\n\u001b[0;32m    146\u001b[0m \u001b[38;5;250m    \u001b[39m\u001b[38;5;124;03m\"\"\"\u001b[39;00m\n\u001b[0;32m    147\u001b[0m \u001b[38;5;124;03m    Download and deserialize a Decision from Caselaw Access Project API.\u001b[39;00m\n\u001b[0;32m    148\u001b[0m \n\u001b[1;32m   (...)\u001b[0m\n\u001b[0;32m    161\u001b[0m \u001b[38;5;124;03m        the first case in the \"results\" list for this queried citation.\u001b[39;00m\n\u001b[0;32m    162\u001b[0m \u001b[38;5;124;03m    \"\"\"\u001b[39;00m\n\u001b[1;32m--> 163\u001b[0m     response \u001b[38;5;241m=\u001b[39m \u001b[38;5;28;43mself\u001b[39;49m\u001b[38;5;241;43m.\u001b[39;49m\u001b[43mfetch_cite\u001b[49m\u001b[43m(\u001b[49m\u001b[43mcite\u001b[49m\u001b[38;5;241;43m=\u001b[39;49m\u001b[43mcite\u001b[49m\u001b[43m,\u001b[49m\u001b[43m \u001b[49m\u001b[43mfull_case\u001b[49m\u001b[38;5;241;43m=\u001b[39;49m\u001b[43mfull_case\u001b[49m\u001b[43m)\u001b[49m\n\u001b[0;32m    164\u001b[0m     \u001b[38;5;28;01mreturn\u001b[39;00m \u001b[38;5;28mself\u001b[39m\u001b[38;5;241m.\u001b[39mread_decision_from_response(response\u001b[38;5;241m=\u001b[39mresponse)\n",
      "File \u001b[1;32mc:\\Python312\\Lib\\site-packages\\justopinion\\download.py:85\u001b[0m, in \u001b[0;36mCAPClient.fetch_cite\u001b[1;34m(self, cite, full_case)\u001b[0m\n\u001b[0;32m     83\u001b[0m \u001b[38;5;28;01mif\u001b[39;00m response\u001b[38;5;241m.\u001b[39mstatus_code \u001b[38;5;241m==\u001b[39m \u001b[38;5;241m401\u001b[39m:\n\u001b[0;32m     84\u001b[0m     detail \u001b[38;5;241m=\u001b[39m response\u001b[38;5;241m.\u001b[39mjson()[\u001b[38;5;124m\"\u001b[39m\u001b[38;5;124mdetail\u001b[39m\u001b[38;5;124m\"\u001b[39m]\n\u001b[1;32m---> 85\u001b[0m     \u001b[38;5;28;01mraise\u001b[39;00m CaseAccessProjectAPIError(\u001b[38;5;124mf\u001b[39m\u001b[38;5;124m\"\u001b[39m\u001b[38;5;132;01m{\u001b[39;00mdetail\u001b[38;5;132;01m}\u001b[39;00m\u001b[38;5;124m \u001b[39m\u001b[38;5;132;01m{\u001b[39;00m\u001b[38;5;28mself\u001b[39m\u001b[38;5;241m.\u001b[39mapi_alert\u001b[38;5;132;01m}\u001b[39;00m\u001b[38;5;124m\"\u001b[39m)\n\u001b[0;32m     86\u001b[0m \u001b[38;5;28;01mreturn\u001b[39;00m response\n",
      "\u001b[1;31mCaseAccessProjectAPIError\u001b[0m: Invalid token. To fetch full opinion text using the full_case parameter, set the CAPClient's 'api_key' attribute to your API key for the Case Access Project. See https://api.case.law/"
     ]
    }
   ],
   "source": [
    "thornton = client.read_cite(\"1 Breese 34\", full_case=True)"
   ]
  },
  {
   "cell_type": "code",
   "execution_count": null,
   "metadata": {},
   "outputs": [],
   "source": [
    "thornton = client.read_cite(\"1 Breese 34\", )"
   ]
  },
  {
   "cell_type": "code",
   "execution_count": null,
   "metadata": {},
   "outputs": [
    {
     "data": {
      "text/plain": [
       "Decision(decision_date=datetime.date(1820, 12, 1), name='John Thornton and others, Appellants, v. George Smiley and John Bradshaw, Appellees', name_abbreviation='Thornton v. Smiley', docket_num=None, citations=[CAPCitation(cite='1 Breese 34', reporter=None, category=None, case_ids=[], type='nominative'), CAPCitation(cite='1 Ill. 34', reporter=None, category=None, case_ids=[], type='official')], parties=[], attorneys=[], first_page=34, last_page=34, court=Court(id=8772, name='Illinois Supreme Court', url=Url('https://api.case.law/v1/courts/ill/'), slug='ill', name_abbreviation='Ill.'), casebody=None, jurisdiction=Jurisdiction(id=29, name='Ill.', url=Url('https://api.case.law/v1/jurisdictions/ill/'), slug='ill', whitelisted=True, name_abbreviation=''), cites_to=[CAPCitation(cite='15 Ill., 284', reporter='Ill.', category='reporters:state', case_ids=[436826], type=None)], id=435800, last_updated=datetime.datetime(2024, 2, 27, 20, 44, 14, 726496, tzinfo=TzInfo(UTC)), frontend_url=Url('https://cite.case.law/ill/1/34/'), analysis=DecisionAnalysis(word_count=507, sha256='412a5868090a78bd542b342b22d9ddec52f50626ada258b640a15a2e6a7c78fe', orc_confidence=None, char_count=2874, pagerank=PageRank(percentile=0.47393709054079985, raw=8.138363859351185e-08), cardinality=202, simhash='1:ef16dd53daca6d88'))"
      ]
     },
     "execution_count": 25,
     "metadata": {},
     "output_type": "execute_result"
    }
   ],
   "source": [
    "thornton"
   ]
  },
  {
   "cell_type": "code",
   "execution_count": null,
   "metadata": {},
   "outputs": [
    {
     "data": {
      "text/plain": [
       "CAPCitation(cite='1 Breese 34', reporter=None, category=None, case_ids=[], type='nominative')"
      ]
     },
     "execution_count": 30,
     "metadata": {},
     "output_type": "execute_result"
    }
   ],
   "source": [
    "thornton.citations[0]"
   ]
  },
  {
   "cell_type": "code",
   "execution_count": null,
   "metadata": {},
   "outputs": [],
   "source": [
    "text_selection = thornton.opinions #[0].select_text([(0, 100), (312, 359)])"
   ]
  },
  {
   "cell_type": "code",
   "execution_count": null,
   "metadata": {},
   "outputs": [
    {
     "data": {
      "text/plain": [
       "[]"
      ]
     },
     "execution_count": 33,
     "metadata": {},
     "output_type": "execute_result"
    }
   ],
   "source": [
    "text_selection"
   ]
  },
  {
   "cell_type": "code",
   "execution_count": null,
   "metadata": {},
   "outputs": [
    {
     "ename": "AttributeError",
     "evalue": "'NoneType' object has no attribute 'data'",
     "output_type": "error",
     "traceback": [
      "\u001b[1;31m---------------------------------------------------------------------------\u001b[0m",
      "\u001b[1;31mAttributeError\u001b[0m                            Traceback (most recent call last)",
      "Cell \u001b[1;32mIn[19], line 1\u001b[0m\n\u001b[1;32m----> 1\u001b[0m parties \u001b[38;5;241m=\u001b[39m \u001b[43mthornton\u001b[49m\u001b[38;5;241;43m.\u001b[39;49m\u001b[43mcasebody\u001b[49m\u001b[38;5;241;43m.\u001b[39;49m\u001b[43mdata\u001b[49m\u001b[38;5;241m.\u001b[39mparties[\u001b[38;5;241m0\u001b[39m]\n\u001b[0;32m      2\u001b[0m \u001b[38;5;28mprint\u001b[39m(\u001b[38;5;124mf\u001b[39m\u001b[38;5;124m\"\u001b[39m\u001b[38;5;124mParties: \u001b[39m\u001b[38;5;132;01m{\u001b[39;00mparties\u001b[38;5;132;01m}\u001b[39;00m\u001b[38;5;124m\"\u001b[39m)\n",
      "\u001b[1;31mAttributeError\u001b[0m: 'NoneType' object has no attribute 'data'"
     ]
    }
   ],
   "source": [
    "parties = thornton.casebody.data.parties[0]\n",
    "print(f\"Parties: {parties}\")"
   ]
  },
  {
   "cell_type": "code",
   "execution_count": null,
   "metadata": {},
   "outputs": [],
   "source": [
    "hero.findNearest(hero.findUnit(\"thrower\", hero.findenemies()))"
   ]
  },
  {
   "cell_type": "code",
   "execution_count": null,
   "metadata": {},
   "outputs": [],
   "source": [
    "def section2(args**, kargs**):\n",
    "    combat()\n",
    "    return \"this comes out of this function\""
   ]
  },
  {
   "cell_type": "code",
   "execution_count": null,
   "metadata": {},
   "outputs": [],
   "source": [
    "if section == 1:\n",
    "    section = section1()\n",
    "if section == 2:\n",
    "    section = section2()"
   ]
  },
  {
   "cell_type": "code",
   "execution_count": null,
   "metadata": {},
   "outputs": [],
   "source": [
    "# Declare a global variable\n",
    "my_global_var = \"Hello, World!\"\n",
    "section = 1\n",
    "def print_global():\n",
    "    # Use the global keyword to indicate the global variable\n",
    "    global my_global_var\n",
    "    print(my_global_var)\n",
    "\n",
    "print_global()  # This will print \"Hello, World!\"\n",
    "def findT():\n",
    "    if enemy.type == 'oasis-guardian':\n",
    "        global section += 1\n"
   ]
  }
 ],
 "metadata": {
  "kernelspec": {
   "display_name": "Python 3",
   "language": "python",
   "name": "python3"
  },
  "language_info": {
   "codemirror_mode": {
    "name": "ipython",
    "version": 3
   },
   "file_extension": ".py",
   "mimetype": "text/x-python",
   "name": "python",
   "nbconvert_exporter": "python",
   "pygments_lexer": "ipython3",
   "version": "3.12.0"
  }
 },
 "nbformat": 4,
 "nbformat_minor": 2
}
