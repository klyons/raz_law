{
 "cells": [
  {
   "cell_type": "code",
   "execution_count": null,
   "metadata": {},
   "outputs": [],
   "source": [
    "# https://justopinion.readthedocs.io/en/latest/guides/getting_started.html#selecting-text-from-an-opinion\n",
    "# https://medium.datadriveninvestor.com/legal-and-justice-related-python-libraries-d3888c08768a"
   ]
  },
  {
   "cell_type": "code",
   "execution_count": 34,
   "metadata": {},
   "outputs": [],
   "source": [
    "from justopinion import CAPClient\n",
    "#49eb70bc06a32b6ec66b336ddcb5d68a6d010214"
   ]
  },
  {
   "cell_type": "code",
   "execution_count": 35,
   "metadata": {},
   "outputs": [],
   "source": [
    "client = CAPClient(api_token='49eb70bc06a32b6ec66b336ddcb5d68a6d010214')"
   ]
  },
  {
   "cell_type": "code",
   "execution_count": 15,
   "metadata": {},
   "outputs": [],
   "source": [
    "\n",
    "oracle_download = client.fetch(query=\"750 F.3d 1339\")\n",
    "#oracle_case = client.read_cite(\"750 F.3d 1339\", full_case=True)"
   ]
  },
  {
   "cell_type": "markdown",
   "metadata": {},
   "source": [
    "Raazya hates spanish, and coding"
   ]
  },
  {
   "cell_type": "code",
   "execution_count": 16,
   "metadata": {},
   "outputs": [
    {
     "data": {
      "text/plain": [
       "<Response [200]>"
      ]
     },
     "execution_count": 16,
     "metadata": {},
     "output_type": "execute_result"
    }
   ],
   "source": [
    "oracle_download"
   ]
  },
  {
   "cell_type": "code",
   "execution_count": 5,
   "metadata": {},
   "outputs": [
    {
     "data": {
      "text/plain": [
       "'ORACLE AMERICA, INC., Plaintiff-Appellant, v. GOOGLE INC., Defendant-Cross-Appellant'"
      ]
     },
     "execution_count": 5,
     "metadata": {},
     "output_type": "execute_result"
    }
   ],
   "source": [
    "oracle_data = oracle_download.json()\n",
    "oracle_data[\"results\"][0][\"name\"]"
   ]
  },
  {
   "cell_type": "code",
   "execution_count": 6,
   "metadata": {},
   "outputs": [
    {
     "data": {
      "text/plain": [
       "'Oracle America, Inc. v. Google Inc.'"
      ]
     },
     "execution_count": 6,
     "metadata": {},
     "output_type": "execute_result"
    }
   ],
   "source": [
    "oracle = client.read_decision_from_response(oracle_download)\n",
    "oracle.name_abbreviation"
   ]
  },
  {
   "cell_type": "code",
   "execution_count": 10,
   "metadata": {},
   "outputs": [
    {
     "ename": "NameError",
     "evalue": "name 'oracle_case' is not defined",
     "output_type": "error",
     "traceback": [
      "\u001b[1;31m---------------------------------------------------------------------------\u001b[0m",
      "\u001b[1;31mNameError\u001b[0m                                 Traceback (most recent call last)",
      "Cell \u001b[1;32mIn[10], line 1\u001b[0m\n\u001b[1;32m----> 1\u001b[0m \u001b[43moracle_case\u001b[49m\u001b[38;5;241m.\u001b[39mopinions[\u001b[38;5;241m0\u001b[39m]\u001b[38;5;241m.\u001b[39mtype\n",
      "\u001b[1;31mNameError\u001b[0m: name 'oracle_case' is not defined"
     ]
    }
   ],
   "source": [
    "oracle_case.opinions[0].type"
   ]
  },
  {
   "cell_type": "code",
   "execution_count": 36,
   "metadata": {},
   "outputs": [
    {
     "ename": "CaseAccessProjectAPIError",
     "evalue": "Invalid token. To fetch full opinion text using the full_case parameter, set the CAPClient's 'api_key' attribute to your API key for the Case Access Project. See https://api.case.law/",
     "output_type": "error",
     "traceback": [
      "\u001b[1;31m---------------------------------------------------------------------------\u001b[0m",
      "\u001b[1;31mCaseAccessProjectAPIError\u001b[0m                 Traceback (most recent call last)",
      "Cell \u001b[1;32mIn[36], line 1\u001b[0m\n\u001b[1;32m----> 1\u001b[0m thornton \u001b[38;5;241m=\u001b[39m \u001b[43mclient\u001b[49m\u001b[38;5;241;43m.\u001b[39;49m\u001b[43mread_cite\u001b[49m\u001b[43m(\u001b[49m\u001b[38;5;124;43m\"\u001b[39;49m\u001b[38;5;124;43m1 Breese 34\u001b[39;49m\u001b[38;5;124;43m\"\u001b[39;49m\u001b[43m,\u001b[49m\u001b[43m \u001b[49m\u001b[43mfull_case\u001b[49m\u001b[38;5;241;43m=\u001b[39;49m\u001b[38;5;28;43;01mTrue\u001b[39;49;00m\u001b[43m)\u001b[49m\n",
      "File \u001b[1;32mc:\\Python312\\Lib\\site-packages\\justopinion\\download.py:163\u001b[0m, in \u001b[0;36mCAPClient.read_cite\u001b[1;34m(self, cite, full_case)\u001b[0m\n\u001b[0;32m    143\u001b[0m \u001b[38;5;28;01mdef\u001b[39;00m \u001b[38;5;21mread_cite\u001b[39m(\n\u001b[0;32m    144\u001b[0m     \u001b[38;5;28mself\u001b[39m, cite: Union[\u001b[38;5;28mstr\u001b[39m, CaseCitation, CAPCitation], full_case: \u001b[38;5;28mbool\u001b[39m \u001b[38;5;241m=\u001b[39m \u001b[38;5;28;01mFalse\u001b[39;00m\n\u001b[0;32m    145\u001b[0m ) \u001b[38;5;241m-\u001b[39m\u001b[38;5;241m>\u001b[39m Decision:\n\u001b[0;32m    146\u001b[0m \u001b[38;5;250m    \u001b[39m\u001b[38;5;124;03m\"\"\"\u001b[39;00m\n\u001b[0;32m    147\u001b[0m \u001b[38;5;124;03m    Download and deserialize a Decision from Caselaw Access Project API.\u001b[39;00m\n\u001b[0;32m    148\u001b[0m \n\u001b[1;32m   (...)\u001b[0m\n\u001b[0;32m    161\u001b[0m \u001b[38;5;124;03m        the first case in the \"results\" list for this queried citation.\u001b[39;00m\n\u001b[0;32m    162\u001b[0m \u001b[38;5;124;03m    \"\"\"\u001b[39;00m\n\u001b[1;32m--> 163\u001b[0m     response \u001b[38;5;241m=\u001b[39m \u001b[38;5;28;43mself\u001b[39;49m\u001b[38;5;241;43m.\u001b[39;49m\u001b[43mfetch_cite\u001b[49m\u001b[43m(\u001b[49m\u001b[43mcite\u001b[49m\u001b[38;5;241;43m=\u001b[39;49m\u001b[43mcite\u001b[49m\u001b[43m,\u001b[49m\u001b[43m \u001b[49m\u001b[43mfull_case\u001b[49m\u001b[38;5;241;43m=\u001b[39;49m\u001b[43mfull_case\u001b[49m\u001b[43m)\u001b[49m\n\u001b[0;32m    164\u001b[0m     \u001b[38;5;28;01mreturn\u001b[39;00m \u001b[38;5;28mself\u001b[39m\u001b[38;5;241m.\u001b[39mread_decision_from_response(response\u001b[38;5;241m=\u001b[39mresponse)\n",
      "File \u001b[1;32mc:\\Python312\\Lib\\site-packages\\justopinion\\download.py:85\u001b[0m, in \u001b[0;36mCAPClient.fetch_cite\u001b[1;34m(self, cite, full_case)\u001b[0m\n\u001b[0;32m     83\u001b[0m \u001b[38;5;28;01mif\u001b[39;00m response\u001b[38;5;241m.\u001b[39mstatus_code \u001b[38;5;241m==\u001b[39m \u001b[38;5;241m401\u001b[39m:\n\u001b[0;32m     84\u001b[0m     detail \u001b[38;5;241m=\u001b[39m response\u001b[38;5;241m.\u001b[39mjson()[\u001b[38;5;124m\"\u001b[39m\u001b[38;5;124mdetail\u001b[39m\u001b[38;5;124m\"\u001b[39m]\n\u001b[1;32m---> 85\u001b[0m     \u001b[38;5;28;01mraise\u001b[39;00m CaseAccessProjectAPIError(\u001b[38;5;124mf\u001b[39m\u001b[38;5;124m\"\u001b[39m\u001b[38;5;132;01m{\u001b[39;00mdetail\u001b[38;5;132;01m}\u001b[39;00m\u001b[38;5;124m \u001b[39m\u001b[38;5;132;01m{\u001b[39;00m\u001b[38;5;28mself\u001b[39m\u001b[38;5;241m.\u001b[39mapi_alert\u001b[38;5;132;01m}\u001b[39;00m\u001b[38;5;124m\"\u001b[39m)\n\u001b[0;32m     86\u001b[0m \u001b[38;5;28;01mreturn\u001b[39;00m response\n",
      "\u001b[1;31mCaseAccessProjectAPIError\u001b[0m: Invalid token. To fetch full opinion text using the full_case parameter, set the CAPClient's 'api_key' attribute to your API key for the Case Access Project. See https://api.case.law/"
     ]
    }
   ],
   "source": [
    "thornton = client.read_cite(\"1 Breese 34\", full_case=True)"
   ]
  },
  {
   "cell_type": "code",
   "execution_count": 18,
   "metadata": {},
   "outputs": [],
   "source": [
    "thornton = client.read_cite(\"1 Breese 34\", )"
   ]
  },
  {
   "cell_type": "code",
   "execution_count": 25,
   "metadata": {},
   "outputs": [
    {
     "data": {
      "text/plain": [
       "Decision(decision_date=datetime.date(1820, 12, 1), name='John Thornton and others, Appellants, v. George Smiley and John Bradshaw, Appellees', name_abbreviation='Thornton v. Smiley', docket_num=None, citations=[CAPCitation(cite='1 Breese 34', reporter=None, category=None, case_ids=[], type='nominative'), CAPCitation(cite='1 Ill. 34', reporter=None, category=None, case_ids=[], type='official')], parties=[], attorneys=[], first_page=34, last_page=34, court=Court(id=8772, name='Illinois Supreme Court', url=Url('https://api.case.law/v1/courts/ill/'), slug='ill', name_abbreviation='Ill.'), casebody=None, jurisdiction=Jurisdiction(id=29, name='Ill.', url=Url('https://api.case.law/v1/jurisdictions/ill/'), slug='ill', whitelisted=True, name_abbreviation=''), cites_to=[CAPCitation(cite='15 Ill., 284', reporter='Ill.', category='reporters:state', case_ids=[436826], type=None)], id=435800, last_updated=datetime.datetime(2024, 2, 27, 20, 44, 14, 726496, tzinfo=TzInfo(UTC)), frontend_url=Url('https://cite.case.law/ill/1/34/'), analysis=DecisionAnalysis(word_count=507, sha256='412a5868090a78bd542b342b22d9ddec52f50626ada258b640a15a2e6a7c78fe', orc_confidence=None, char_count=2874, pagerank=PageRank(percentile=0.47393709054079985, raw=8.138363859351185e-08), cardinality=202, simhash='1:ef16dd53daca6d88'))"
      ]
     },
     "execution_count": 25,
     "metadata": {},
     "output_type": "execute_result"
    }
   ],
   "source": [
    "thornton"
   ]
  },
  {
   "cell_type": "code",
   "execution_count": 30,
   "metadata": {},
   "outputs": [
    {
     "data": {
      "text/plain": [
       "CAPCitation(cite='1 Breese 34', reporter=None, category=None, case_ids=[], type='nominative')"
      ]
     },
     "execution_count": 30,
     "metadata": {},
     "output_type": "execute_result"
    }
   ],
   "source": [
    "thornton.citations[0]"
   ]
  },
  {
   "cell_type": "code",
   "execution_count": 32,
   "metadata": {},
   "outputs": [],
   "source": [
    "text_selection = thornton.opinions #[0].select_text([(0, 100), (312, 359)])"
   ]
  },
  {
   "cell_type": "code",
   "execution_count": 33,
   "metadata": {},
   "outputs": [
    {
     "data": {
      "text/plain": [
       "[]"
      ]
     },
     "execution_count": 33,
     "metadata": {},
     "output_type": "execute_result"
    }
   ],
   "source": [
    "text_selection"
   ]
  },
  {
   "cell_type": "code",
   "execution_count": 19,
   "metadata": {},
   "outputs": [
    {
     "ename": "AttributeError",
     "evalue": "'NoneType' object has no attribute 'data'",
     "output_type": "error",
     "traceback": [
      "\u001b[1;31m---------------------------------------------------------------------------\u001b[0m",
      "\u001b[1;31mAttributeError\u001b[0m                            Traceback (most recent call last)",
      "Cell \u001b[1;32mIn[19], line 1\u001b[0m\n\u001b[1;32m----> 1\u001b[0m parties \u001b[38;5;241m=\u001b[39m \u001b[43mthornton\u001b[49m\u001b[38;5;241;43m.\u001b[39;49m\u001b[43mcasebody\u001b[49m\u001b[38;5;241;43m.\u001b[39;49m\u001b[43mdata\u001b[49m\u001b[38;5;241m.\u001b[39mparties[\u001b[38;5;241m0\u001b[39m]\n\u001b[0;32m      2\u001b[0m \u001b[38;5;28mprint\u001b[39m(\u001b[38;5;124mf\u001b[39m\u001b[38;5;124m\"\u001b[39m\u001b[38;5;124mParties: \u001b[39m\u001b[38;5;132;01m{\u001b[39;00mparties\u001b[38;5;132;01m}\u001b[39;00m\u001b[38;5;124m\"\u001b[39m)\n",
      "\u001b[1;31mAttributeError\u001b[0m: 'NoneType' object has no attribute 'data'"
     ]
    }
   ],
   "source": [
    "parties = thornton.casebody.data.parties[0]\n",
    "print(f\"Parties: {parties}\")"
   ]
  },
  {
   "cell_type": "code",
   "execution_count": null,
   "metadata": {},
   "outputs": [],
   "source": [
    "hero.findNearest(hero.findUnit(\"thrower\", hero.findenemies()))"
   ]
  },
  {
   "cell_type": "code",
   "execution_count": null,
   "metadata": {},
   "outputs": [],
   "source": [
    "def section2(args**, kargs**):\n",
    "    combat()\n",
    "    return \"this comes out of this function\""
   ]
  },
  {
   "cell_type": "code",
   "execution_count": null,
   "metadata": {},
   "outputs": [],
   "source": [
    "if section == 1:\n",
    "    section = section1()\n",
    "if section == 2:\n",
    "    section = section2()"
   ]
  },
  {
   "cell_type": "code",
   "execution_count": null,
   "metadata": {},
   "outputs": [],
   "source": [
    "# Declare a global variable\n",
    "my_global_var = \"Hello, World!\"\n",
    "section = 1\n",
    "def print_global():\n",
    "    # Use the global keyword to indicate the global variable\n",
    "    global my_global_var\n",
    "    print(my_global_var)\n",
    "\n",
    "print_global()  # This will print \"Hello, World!\"\n",
    "def findT():\n",
    "    if enemy.type == 'oasis-guardian':\n",
    "        global section += 1\n"
   ]
  }
 ],
 "metadata": {
  "kernelspec": {
   "display_name": "Python 3",
   "language": "python",
   "name": "python3"
  },
  "language_info": {
   "codemirror_mode": {
    "name": "ipython",
    "version": 3
   },
   "file_extension": ".py",
   "mimetype": "text/x-python",
   "name": "python",
   "nbconvert_exporter": "python",
   "pygments_lexer": "ipython3",
   "version": "3.12.0"
  }
 },
 "nbformat": 4,
 "nbformat_minor": 2
}
